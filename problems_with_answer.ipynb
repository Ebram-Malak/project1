{
 "cells": [
  {
   "cell_type": "markdown",
   "id": "b67ca843",
   "metadata": {},
   "source": [
    "## EX1 : ask user to enter lower case string and convert all characters with even index to upper case ?"
   ]
  },
  {
   "cell_type": "code",
   "execution_count": 10,
   "id": "f15d3d36",
   "metadata": {},
   "outputs": [],
   "source": [
    "var = input(\"Enter your Name\").lower()\n",
    "a = list(enumerate(var))\n",
    "out = []\n",
    "for i in range(len(a)):\n",
    "    if a[i][0] % 2 == 0 :\n",
    "        out.append(a[i][1].upper())\n",
    "    else:\n",
    "        out.append(a[i][1])\n",
    "        "
   ]
  },
  {
   "cell_type": "code",
   "execution_count": 7,
   "id": "b8618619",
   "metadata": {},
   "outputs": [
    {
     "data": {
      "text/plain": [
       "2"
      ]
     },
     "execution_count": 7,
     "metadata": {},
     "output_type": "execute_result"
    }
   ],
   "source": [
    "a[2][0]"
   ]
  },
  {
   "cell_type": "code",
   "execution_count": 14,
   "id": "63691c52",
   "metadata": {},
   "outputs": [],
   "source": [
    "string = ''.join(out)"
   ]
  },
  {
   "cell_type": "code",
   "execution_count": 15,
   "id": "80048b96",
   "metadata": {},
   "outputs": [
    {
     "data": {
      "text/plain": [
       "'AhMeD'"
      ]
     },
     "execution_count": 15,
     "metadata": {},
     "output_type": "execute_result"
    }
   ],
   "source": [
    "string"
   ]
  },
  {
   "cell_type": "code",
   "execution_count": null,
   "id": "869fe1df",
   "metadata": {},
   "outputs": [],
   "source": []
  },
  {
   "cell_type": "code",
   "execution_count": null,
   "id": "098ca087",
   "metadata": {},
   "outputs": [],
   "source": []
  },
  {
   "cell_type": "code",
   "execution_count": null,
   "id": "0310307e",
   "metadata": {},
   "outputs": [],
   "source": []
  },
  {
   "cell_type": "code",
   "execution_count": null,
   "id": "c58c402e",
   "metadata": {},
   "outputs": [],
   "source": []
  },
  {
   "cell_type": "code",
   "execution_count": null,
   "id": "29137f3d",
   "metadata": {},
   "outputs": [],
   "source": []
  },
  {
   "cell_type": "markdown",
   "id": "d81abe2f",
   "metadata": {},
   "source": [
    "## EX2 : you have a list of integers and ask user to enter number and if number exist inside list print exist else not exist ?"
   ]
  },
  {
   "cell_type": "code",
   "execution_count": 17,
   "id": "39258d4e",
   "metadata": {},
   "outputs": [
    {
     "name": "stdout",
     "output_type": "stream",
     "text": [
      "exist\n"
     ]
    }
   ],
   "source": [
    "lst = [1,2,3,4,5]\n",
    "\n",
    "var = int(input(\"Enter your Number\"))\n",
    "\n",
    "if var in lst:\n",
    "    print(\"exist\")\n",
    "else:\n",
    "    print(\"not exist\")"
   ]
  },
  {
   "cell_type": "code",
   "execution_count": null,
   "id": "0d6e4ecf",
   "metadata": {},
   "outputs": [],
   "source": []
  },
  {
   "cell_type": "code",
   "execution_count": null,
   "id": "d7d065a2",
   "metadata": {},
   "outputs": [],
   "source": []
  },
  {
   "cell_type": "code",
   "execution_count": null,
   "id": "201b6cb9",
   "metadata": {},
   "outputs": [],
   "source": []
  },
  {
   "cell_type": "code",
   "execution_count": null,
   "id": "48d5021d",
   "metadata": {},
   "outputs": [],
   "source": []
  },
  {
   "cell_type": "code",
   "execution_count": null,
   "id": "6c167a1a",
   "metadata": {},
   "outputs": [],
   "source": []
  },
  {
   "cell_type": "code",
   "execution_count": null,
   "id": "808923e3",
   "metadata": {},
   "outputs": [],
   "source": []
  },
  {
   "cell_type": "code",
   "execution_count": null,
   "id": "e0999bd9",
   "metadata": {},
   "outputs": [],
   "source": []
  },
  {
   "cell_type": "code",
   "execution_count": null,
   "id": "deb0edfb",
   "metadata": {},
   "outputs": [],
   "source": []
  },
  {
   "cell_type": "markdown",
   "id": "d3ff418c",
   "metadata": {},
   "source": [
    "## EX3:  you have a list of integers and ask user to enter number and print number of occurrences of this number inside list ?"
   ]
  },
  {
   "cell_type": "code",
   "execution_count": 18,
   "id": "99129ff3",
   "metadata": {},
   "outputs": [
    {
     "data": {
      "text/plain": [
       "1"
      ]
     },
     "execution_count": 18,
     "metadata": {},
     "output_type": "execute_result"
    }
   ],
   "source": [
    "lst = [1,2,3,4,5]\n",
    "\n",
    "lst.count(1)"
   ]
  },
  {
   "cell_type": "code",
   "execution_count": null,
   "id": "3304a5f3",
   "metadata": {},
   "outputs": [],
   "source": []
  },
  {
   "cell_type": "code",
   "execution_count": null,
   "id": "a8562bb7",
   "metadata": {},
   "outputs": [],
   "source": []
  },
  {
   "cell_type": "code",
   "execution_count": null,
   "id": "7fd80e29",
   "metadata": {},
   "outputs": [],
   "source": []
  },
  {
   "cell_type": "code",
   "execution_count": null,
   "id": "4291e244",
   "metadata": {},
   "outputs": [],
   "source": []
  },
  {
   "cell_type": "code",
   "execution_count": null,
   "id": "b52c7b74",
   "metadata": {},
   "outputs": [],
   "source": []
  },
  {
   "cell_type": "code",
   "execution_count": null,
   "id": "75901a30",
   "metadata": {},
   "outputs": [],
   "source": []
  },
  {
   "cell_type": "code",
   "execution_count": null,
   "id": "7c2ce4f0",
   "metadata": {},
   "outputs": [],
   "source": []
  },
  {
   "cell_type": "code",
   "execution_count": null,
   "id": "684cedae",
   "metadata": {},
   "outputs": [],
   "source": []
  },
  {
   "cell_type": "markdown",
   "id": "1185527a",
   "metadata": {},
   "source": [
    "## EX4: write a program to find number of occurrences for each item in list and store that output in dictionary ?"
   ]
  },
  {
   "cell_type": "code",
   "execution_count": null,
   "id": "845d76a9",
   "metadata": {},
   "outputs": [],
   "source": []
  },
  {
   "cell_type": "code",
   "execution_count": null,
   "id": "163e02d0",
   "metadata": {},
   "outputs": [],
   "source": []
  },
  {
   "cell_type": "code",
   "execution_count": null,
   "id": "e0c19403",
   "metadata": {},
   "outputs": [],
   "source": []
  },
  {
   "cell_type": "code",
   "execution_count": null,
   "id": "2141e4fe",
   "metadata": {},
   "outputs": [],
   "source": []
  },
  {
   "cell_type": "code",
   "execution_count": null,
   "id": "027675fd",
   "metadata": {},
   "outputs": [],
   "source": []
  },
  {
   "cell_type": "code",
   "execution_count": null,
   "id": "dbd848be",
   "metadata": {},
   "outputs": [],
   "source": []
  },
  {
   "cell_type": "code",
   "execution_count": null,
   "id": "a6b07dea",
   "metadata": {},
   "outputs": [],
   "source": []
  },
  {
   "cell_type": "code",
   "execution_count": null,
   "id": "d5534e9a",
   "metadata": {},
   "outputs": [],
   "source": []
  },
  {
   "cell_type": "code",
   "execution_count": null,
   "id": "34f4b660",
   "metadata": {},
   "outputs": [],
   "source": []
  },
  {
   "cell_type": "markdown",
   "id": "47ea78fa",
   "metadata": {},
   "source": [
    "## EX5: you have a list and number search in list to find 2 items there sum is that number ?"
   ]
  },
  {
   "cell_type": "code",
   "execution_count": null,
   "id": "5fdf0642",
   "metadata": {},
   "outputs": [
    {
     "name": "stdout",
     "output_type": "stream",
     "text": [
      "1 4\n",
      "2 3\n",
      "3 2\n",
      "4 1\n"
     ]
    }
   ],
   "source": [
    "lst = [1,2,3,4,5]\n",
    "\n",
    "var = int(input())\n",
    "num1 = []\n",
    "num2 = []\n",
    "\n",
    "for i in lst:\n",
    "    for j in lst:\n",
    "        if var == i+j:\n",
    "            num1.append(i)\n",
    "            num2.append(j)\n",
    "            \n",
    "            print(i , j)\n",
    "        "
   ]
  },
  {
   "cell_type": "code",
   "execution_count": null,
   "id": "4252aba9",
   "metadata": {},
   "outputs": [],
   "source": []
  },
  {
   "cell_type": "code",
   "execution_count": null,
   "id": "3470d8e3",
   "metadata": {},
   "outputs": [],
   "source": []
  },
  {
   "cell_type": "code",
   "execution_count": null,
   "id": "f4a956c9",
   "metadata": {},
   "outputs": [],
   "source": []
  },
  {
   "cell_type": "code",
   "execution_count": null,
   "id": "ddb56d23",
   "metadata": {},
   "outputs": [],
   "source": []
  },
  {
   "cell_type": "code",
   "execution_count": null,
   "id": "405c7858",
   "metadata": {},
   "outputs": [],
   "source": []
  },
  {
   "cell_type": "code",
   "execution_count": null,
   "id": "af4ce4cf",
   "metadata": {},
   "outputs": [],
   "source": []
  },
  {
   "cell_type": "code",
   "execution_count": null,
   "id": "38499c0d",
   "metadata": {},
   "outputs": [],
   "source": []
  },
  {
   "cell_type": "code",
   "execution_count": null,
   "id": "b8565632",
   "metadata": {},
   "outputs": [],
   "source": []
  },
  {
   "cell_type": "markdown",
   "id": "e9a64120",
   "metadata": {},
   "source": [
    "## EX6: you have a string you are asked to how many numbers , how many char , how many special char in it \n",
    "* sample input 'abc123+-\\z|'\n",
    "* number of numbers = 3\n",
    "* number of char = 4\n",
    "* number of special char = 4"
   ]
  },
  {
   "cell_type": "code",
   "execution_count": null,
   "id": "51fd63cd",
   "metadata": {},
   "outputs": [],
   "source": []
  },
  {
   "cell_type": "code",
   "execution_count": null,
   "id": "506df337",
   "metadata": {},
   "outputs": [],
   "source": []
  },
  {
   "cell_type": "code",
   "execution_count": null,
   "id": "119c0df8",
   "metadata": {},
   "outputs": [],
   "source": []
  },
  {
   "cell_type": "code",
   "execution_count": null,
   "id": "8fad88ea",
   "metadata": {},
   "outputs": [],
   "source": []
  },
  {
   "cell_type": "code",
   "execution_count": null,
   "id": "10e8c549",
   "metadata": {},
   "outputs": [],
   "source": []
  },
  {
   "cell_type": "code",
   "execution_count": null,
   "id": "d71c0933",
   "metadata": {},
   "outputs": [],
   "source": []
  },
  {
   "cell_type": "code",
   "execution_count": null,
   "id": "9bdf2788",
   "metadata": {},
   "outputs": [],
   "source": []
  },
  {
   "cell_type": "code",
   "execution_count": null,
   "id": "6867a036",
   "metadata": {},
   "outputs": [],
   "source": []
  },
  {
   "cell_type": "code",
   "execution_count": null,
   "id": "c42afe78",
   "metadata": {},
   "outputs": [],
   "source": []
  },
  {
   "cell_type": "code",
   "execution_count": null,
   "id": "cc5b0051",
   "metadata": {},
   "outputs": [],
   "source": []
  },
  {
   "cell_type": "markdown",
   "id": "9780265e",
   "metadata": {},
   "source": [
    "## EX7: For this dict find max city for each country\n",
    "* sample output (Egy -- > Damietta) --------- (US -- > California) .............................\n",
    "* countries = {'Egy' : {'Cairo' : 1200 , 'Luxor' : 198 , 'Giza' : 1987 , 'Damietta' : 19870}, 'US' : {'new Yourk' : 15500 , 'Los Angeles' : 1650 , 'California' : 18062} , 'UK' : {'London' : 1800 , 'Bristol' : 1890 , 'Manchester' : 19850} , 'france' : {'Paris' : 19820 , 'Marseille' : 1980 , 'Lyon' : 19875 } }\n",
    "\n"
   ]
  },
  {
   "cell_type": "code",
   "execution_count": 5,
   "id": "e2c20fd5",
   "metadata": {},
   "outputs": [
    {
     "name": "stdout",
     "output_type": "stream",
     "text": [
      "['max city for Egy is: Damietta: 19870', 'max city for US is: California: 18062', 'max city for UK is: Manchester: 19850', 'max city for france is: Lyon: 19875']\n"
     ]
    }
   ],
   "source": [
    "countries = {'Egy' : {'Cairo' : 1200 , 'Luxor' : 198 , 'Giza' : 1987 , 'Damietta' : 19870}, 'US' : {'new Yourk' : 15500 , 'Los Angeles' : 1650 , 'California' : 18062} , 'UK' : {'London' : 1800 , 'Bristol' : 1890 , 'Manchester' : 19850} , 'france' : {'Paris' : 19820 , 'Marseille' : 1980 , 'Lyon' : 19875 } }\n",
    "c=0\n",
    "list3,list7,list4=[],[],[]\n",
    "for k in countries:\n",
    "    for i,s in (countries[k]).items():\n",
    "        list3.append(i)\n",
    "        list4.append(s)\n",
    "    n=list4.index(max(list4))\n",
    "    list7.append(f'max city for {k} is: '+list3[n]+': '+str(max(list4)))\n",
    "    list3.clear()\n",
    "    list4.clear()\n",
    "print(list7)"
   ]
  },
  {
   "cell_type": "code",
   "execution_count": null,
   "id": "b78ce243",
   "metadata": {},
   "outputs": [],
   "source": []
  },
  {
   "cell_type": "code",
   "execution_count": null,
   "id": "1fe03aac",
   "metadata": {},
   "outputs": [],
   "source": []
  },
  {
   "cell_type": "code",
   "execution_count": null,
   "id": "e69632a8",
   "metadata": {},
   "outputs": [],
   "source": []
  },
  {
   "cell_type": "code",
   "execution_count": null,
   "id": "14236295",
   "metadata": {},
   "outputs": [],
   "source": []
  },
  {
   "cell_type": "code",
   "execution_count": null,
   "id": "43098f00",
   "metadata": {},
   "outputs": [],
   "source": []
  },
  {
   "cell_type": "code",
   "execution_count": null,
   "id": "633ee7b9",
   "metadata": {},
   "outputs": [],
   "source": []
  },
  {
   "cell_type": "code",
   "execution_count": null,
   "id": "0cc75044",
   "metadata": {},
   "outputs": [],
   "source": []
  },
  {
   "cell_type": "code",
   "execution_count": null,
   "id": "90973374",
   "metadata": {},
   "outputs": [],
   "source": []
  },
  {
   "cell_type": "code",
   "execution_count": null,
   "id": "86f6ce90",
   "metadata": {},
   "outputs": [],
   "source": []
  },
  {
   "cell_type": "markdown",
   "id": "6bea6dca",
   "metadata": {},
   "source": [
    "## EX8 : For this dictionary find total price for meal ?"
   ]
  },
  {
   "cell_type": "code",
   "execution_count": 4,
   "id": "0b069625",
   "metadata": {},
   "outputs": [
    {
     "name": "stdout",
     "output_type": "stream",
     "text": [
      "610\n"
     ]
    }
   ],
   "source": [
    "dic={'meal1':122,'meal2':122,'meal3':122,'meal4':122,'meal5':122}\n",
    "flag=0\n",
    "for k in dic:\n",
    "    flag+=dic[k]\n",
    "print(flag)\n",
    "    "
   ]
  },
  {
   "cell_type": "code",
   "execution_count": null,
   "id": "6ea2ec56",
   "metadata": {},
   "outputs": [],
   "source": []
  },
  {
   "cell_type": "code",
   "execution_count": null,
   "id": "6ff0c603",
   "metadata": {},
   "outputs": [],
   "source": []
  },
  {
   "cell_type": "code",
   "execution_count": null,
   "id": "8f3d3a72",
   "metadata": {},
   "outputs": [],
   "source": []
  },
  {
   "cell_type": "code",
   "execution_count": null,
   "id": "66a97901",
   "metadata": {},
   "outputs": [],
   "source": []
  },
  {
   "cell_type": "code",
   "execution_count": null,
   "id": "cca46d1c",
   "metadata": {},
   "outputs": [],
   "source": []
  },
  {
   "cell_type": "code",
   "execution_count": null,
   "id": "4cf42c2c",
   "metadata": {},
   "outputs": [],
   "source": []
  },
  {
   "cell_type": "code",
   "execution_count": null,
   "id": "12dd13ba",
   "metadata": {},
   "outputs": [],
   "source": []
  },
  {
   "cell_type": "code",
   "execution_count": null,
   "id": "8df3171b",
   "metadata": {},
   "outputs": [],
   "source": []
  },
  {
   "cell_type": "markdown",
   "id": "f88dfb21",
   "metadata": {},
   "source": [
    "## EX9: ask user to enter integer number and show whether this number is prime or not ?"
   ]
  },
  {
   "cell_type": "code",
   "execution_count": 19,
   "id": "ce06ccd0",
   "metadata": {},
   "outputs": [
    {
     "name": "stdout",
     "output_type": "stream",
     "text": [
      "number is primary\n"
     ]
    }
   ],
   "source": [
    "num=int(input('enter number: '))\n",
    "flag=0\n",
    "for i in range(1,num):\n",
    "    if num%i==0:\n",
    "        flag+=1\n",
    "if flag>1:\n",
    "    print('number is not prime')\n",
    "else:\n",
    "    print('number is prime')\n"
   ]
  },
  {
   "cell_type": "code",
   "execution_count": null,
   "id": "ed7dc34b",
   "metadata": {},
   "outputs": [],
   "source": []
  },
  {
   "cell_type": "code",
   "execution_count": null,
   "id": "eb516fb2",
   "metadata": {},
   "outputs": [],
   "source": []
  },
  {
   "cell_type": "code",
   "execution_count": null,
   "id": "cf708c1c",
   "metadata": {},
   "outputs": [],
   "source": []
  },
  {
   "cell_type": "code",
   "execution_count": null,
   "id": "767c8537",
   "metadata": {},
   "outputs": [],
   "source": []
  },
  {
   "cell_type": "code",
   "execution_count": null,
   "id": "9efcd799",
   "metadata": {},
   "outputs": [],
   "source": []
  },
  {
   "cell_type": "code",
   "execution_count": null,
   "id": "07343f2d",
   "metadata": {},
   "outputs": [],
   "source": []
  },
  {
   "cell_type": "code",
   "execution_count": null,
   "id": "fbe67bc8",
   "metadata": {},
   "outputs": [],
   "source": []
  },
  {
   "cell_type": "code",
   "execution_count": null,
   "id": "8bcf5d64",
   "metadata": {},
   "outputs": [],
   "source": []
  },
  {
   "cell_type": "markdown",
   "id": "327499d9",
   "metadata": {},
   "source": [
    "## EX10 : you have a list you are asked to reverse this list ?"
   ]
  },
  {
   "cell_type": "code",
   "execution_count": 14,
   "id": "927d65e7",
   "metadata": {},
   "outputs": [
    {
     "name": "stdout",
     "output_type": "stream",
     "text": [
      "[4, 0, 11, 4, 8, 3, 7]\n"
     ]
    }
   ],
   "source": [
    "list1=[7,3,8,4,11,0,4]\n",
    "list1.reverse()\n",
    "print(list1)"
   ]
  },
  {
   "cell_type": "code",
   "execution_count": null,
   "id": "50554351",
   "metadata": {},
   "outputs": [],
   "source": []
  },
  {
   "cell_type": "code",
   "execution_count": null,
   "id": "6829f883",
   "metadata": {},
   "outputs": [],
   "source": []
  },
  {
   "cell_type": "code",
   "execution_count": null,
   "id": "d8284353",
   "metadata": {},
   "outputs": [],
   "source": []
  },
  {
   "cell_type": "code",
   "execution_count": null,
   "id": "d3604da0",
   "metadata": {},
   "outputs": [],
   "source": []
  },
  {
   "cell_type": "code",
   "execution_count": null,
   "id": "8e206583",
   "metadata": {},
   "outputs": [],
   "source": []
  },
  {
   "cell_type": "code",
   "execution_count": null,
   "id": "3e9d1696",
   "metadata": {},
   "outputs": [],
   "source": []
  },
  {
   "cell_type": "code",
   "execution_count": null,
   "id": "3ab79db9",
   "metadata": {},
   "outputs": [],
   "source": []
  },
  {
   "cell_type": "code",
   "execution_count": null,
   "id": "b8e0a268",
   "metadata": {},
   "outputs": [],
   "source": []
  },
  {
   "cell_type": "markdown",
   "id": "79cea4d1",
   "metadata": {},
   "source": [
    "## EX11: Find Greatest Common divisor between two numbers "
   ]
  },
  {
   "cell_type": "code",
   "execution_count": 15,
   "id": "f4bf7c7d",
   "metadata": {},
   "outputs": [
    {
     "name": "stdout",
     "output_type": "stream",
     "text": [
      "6\n"
     ]
    }
   ],
   "source": [
    "num1=int(input('enter num1'))\n",
    "num2=int(input('enter num2'))\n",
    "b=min(num1,num2)\n",
    "c=0\n",
    "for i in range(2,b+1):\n",
    "    if num1%i==0 and num2%i==0:\n",
    "        c=i\n",
    "if c==0:\n",
    "    print('nule value')\n",
    "else:\n",
    "    print(c)\n",
    "\n"
   ]
  },
  {
   "cell_type": "code",
   "execution_count": null,
   "id": "0acfd12e",
   "metadata": {},
   "outputs": [],
   "source": []
  },
  {
   "cell_type": "code",
   "execution_count": null,
   "id": "1009ac6a",
   "metadata": {},
   "outputs": [],
   "source": []
  },
  {
   "cell_type": "code",
   "execution_count": null,
   "id": "276d69a9",
   "metadata": {},
   "outputs": [],
   "source": []
  },
  {
   "cell_type": "code",
   "execution_count": null,
   "id": "6809a345",
   "metadata": {},
   "outputs": [],
   "source": []
  },
  {
   "cell_type": "code",
   "execution_count": null,
   "id": "136408b8",
   "metadata": {},
   "outputs": [],
   "source": []
  },
  {
   "cell_type": "code",
   "execution_count": null,
   "id": "0dbf5f36",
   "metadata": {},
   "outputs": [],
   "source": []
  },
  {
   "cell_type": "code",
   "execution_count": null,
   "id": "10ea13ca",
   "metadata": {},
   "outputs": [],
   "source": []
  },
  {
   "cell_type": "code",
   "execution_count": null,
   "id": "bf39f19f",
   "metadata": {},
   "outputs": [],
   "source": []
  },
  {
   "cell_type": "markdown",
   "id": "54afe500",
   "metadata": {},
   "source": [
    "## EX12: Write a program that repeatedly collects positive integers from the user, stopping when the user enters a negative number or zero. After that, output the product of all positive entries."
   ]
  },
  {
   "cell_type": "code",
   "execution_count": 16,
   "id": "bc6556d5",
   "metadata": {},
   "outputs": [
    {
     "name": "stdout",
     "output_type": "stream",
     "text": [
      "720\n"
     ]
    }
   ],
   "source": [
    "flag=1\n",
    "while True:\n",
    "    num=int(input('enter num: '))\n",
    "    if num>0:\n",
    "        flag*=num\n",
    "    else:\n",
    "        print(flag)\n",
    "        break\n"
   ]
  },
  {
   "cell_type": "code",
   "execution_count": null,
   "id": "7d08b7a3",
   "metadata": {},
   "outputs": [],
   "source": []
  },
  {
   "cell_type": "code",
   "execution_count": null,
   "id": "5c1719e1",
   "metadata": {},
   "outputs": [],
   "source": []
  },
  {
   "cell_type": "code",
   "execution_count": null,
   "id": "bfea6350",
   "metadata": {},
   "outputs": [],
   "source": []
  },
  {
   "cell_type": "code",
   "execution_count": null,
   "id": "304fa32c",
   "metadata": {},
   "outputs": [],
   "source": []
  },
  {
   "cell_type": "code",
   "execution_count": null,
   "id": "d7fbb38b",
   "metadata": {},
   "outputs": [],
   "source": []
  },
  {
   "cell_type": "code",
   "execution_count": null,
   "id": "75858b18",
   "metadata": {},
   "outputs": [],
   "source": []
  },
  {
   "cell_type": "code",
   "execution_count": null,
   "id": "4e2ad91e",
   "metadata": {},
   "outputs": [],
   "source": []
  },
  {
   "cell_type": "code",
   "execution_count": null,
   "id": "e675f665",
   "metadata": {},
   "outputs": [],
   "source": []
  },
  {
   "cell_type": "markdown",
   "id": "8e616dcc",
   "metadata": {},
   "source": [
    "## EX13: Write a program that accepts from the user a list of positive integers and displays the number of even and odd values in the list. The program accepts numbers from the user until he enters a negative value."
   ]
  },
  {
   "cell_type": "code",
   "execution_count": 4,
   "id": "74a207ae",
   "metadata": {},
   "outputs": [
    {
     "name": "stdout",
     "output_type": "stream",
     "text": [
      "num of even is2\n",
      "num of odd is2\n"
     ]
    }
   ],
   "source": [
    "from functools import reduce\n",
    "list10=[]\n",
    "flag1=0\n",
    "flag2=0\n",
    "while True:\n",
    "    num=int(input('enter num: '))\n",
    "    if num>0:\n",
    "        list10.append(num)\n",
    "        if num%2==0:\n",
    "            flag1+=1\n",
    "        else:\n",
    "            flag2+=1\n",
    "    else:\n",
    "        print(f'num of even is{flag1}\\nnum of odd is{flag2}')\n",
    "        break"
   ]
  },
  {
   "cell_type": "code",
   "execution_count": null,
   "id": "ea1f7afd",
   "metadata": {},
   "outputs": [],
   "source": []
  },
  {
   "cell_type": "code",
   "execution_count": null,
   "id": "7b5787f0",
   "metadata": {},
   "outputs": [],
   "source": []
  },
  {
   "cell_type": "code",
   "execution_count": null,
   "id": "7c989682",
   "metadata": {},
   "outputs": [],
   "source": []
  },
  {
   "cell_type": "code",
   "execution_count": null,
   "id": "16d98673",
   "metadata": {},
   "outputs": [],
   "source": []
  },
  {
   "cell_type": "code",
   "execution_count": null,
   "id": "b2d14fca",
   "metadata": {},
   "outputs": [],
   "source": []
  },
  {
   "cell_type": "code",
   "execution_count": null,
   "id": "7708a25e",
   "metadata": {},
   "outputs": [],
   "source": []
  },
  {
   "cell_type": "code",
   "execution_count": null,
   "id": "13c271ce",
   "metadata": {},
   "outputs": [],
   "source": []
  },
  {
   "cell_type": "code",
   "execution_count": null,
   "id": "a6af6821",
   "metadata": {},
   "outputs": [],
   "source": []
  },
  {
   "cell_type": "markdown",
   "id": "909a4463",
   "metadata": {},
   "source": [
    "## EX14: Write a program that asks the user to enter an integer and reports all divisors in ascending order."
   ]
  },
  {
   "cell_type": "code",
   "execution_count": 6,
   "id": "6eab68ca",
   "metadata": {},
   "outputs": [
    {
     "name": "stdout",
     "output_type": "stream",
     "text": [
      "1 2 5 10 "
     ]
    }
   ],
   "source": [
    "num=int(input('enter the num: '))\n",
    "for i in range(1,num+1):\n",
    "    if num%i==0:\n",
    "        print(i,end=\" \")"
   ]
  },
  {
   "cell_type": "code",
   "execution_count": null,
   "id": "132e79ce",
   "metadata": {},
   "outputs": [],
   "source": []
  },
  {
   "cell_type": "code",
   "execution_count": null,
   "id": "ae8b5fca",
   "metadata": {},
   "outputs": [],
   "source": []
  },
  {
   "cell_type": "code",
   "execution_count": null,
   "id": "ba461e1f",
   "metadata": {},
   "outputs": [],
   "source": []
  },
  {
   "cell_type": "code",
   "execution_count": null,
   "id": "eb000775",
   "metadata": {},
   "outputs": [],
   "source": []
  },
  {
   "cell_type": "code",
   "execution_count": null,
   "id": "12ced027",
   "metadata": {},
   "outputs": [],
   "source": []
  },
  {
   "cell_type": "code",
   "execution_count": null,
   "id": "347506df",
   "metadata": {},
   "outputs": [],
   "source": []
  },
  {
   "cell_type": "code",
   "execution_count": null,
   "id": "69f78f43",
   "metadata": {},
   "outputs": [],
   "source": []
  },
  {
   "cell_type": "code",
   "execution_count": null,
   "id": "9d562e5b",
   "metadata": {},
   "outputs": [],
   "source": []
  },
  {
   "cell_type": "markdown",
   "id": "5b362ce0",
   "metadata": {},
   "source": [
    "## EX15: Write a program that accepts numbers from the user and then tells the maximum two numbers of them. The results should be displayed when the user enters a negative number"
   ]
  },
  {
   "cell_type": "code",
   "execution_count": 8,
   "id": "85167b55",
   "metadata": {},
   "outputs": [
    {
     "name": "stdout",
     "output_type": "stream",
     "text": [
      "The two largest numbers are: 234, 100\n"
     ]
    }
   ],
   "source": [
    "list9=[]\n",
    "while True:\n",
    "    num=int(input('enter the num'))\n",
    "    if num>=0:\n",
    "        list9.append(num)\n",
    "    else:\n",
    "        max1=max(list9)\n",
    "        list9.pop(list9.index(max1))\n",
    "        max2=max(list9)\n",
    "        print(f\"The two largest numbers are: {max1}, {max2}\")\n",
    "        break\n"
   ]
  },
  {
   "cell_type": "code",
   "execution_count": null,
   "id": "49c56ef6",
   "metadata": {},
   "outputs": [],
   "source": []
  },
  {
   "cell_type": "code",
   "execution_count": null,
   "id": "81af5775",
   "metadata": {},
   "outputs": [],
   "source": []
  },
  {
   "cell_type": "code",
   "execution_count": null,
   "id": "3f04bb9a",
   "metadata": {},
   "outputs": [],
   "source": []
  },
  {
   "cell_type": "code",
   "execution_count": null,
   "id": "1d692095",
   "metadata": {},
   "outputs": [],
   "source": []
  },
  {
   "cell_type": "code",
   "execution_count": null,
   "id": "d8947359",
   "metadata": {},
   "outputs": [],
   "source": []
  },
  {
   "cell_type": "code",
   "execution_count": null,
   "id": "54abe593",
   "metadata": {},
   "outputs": [],
   "source": []
  },
  {
   "cell_type": "code",
   "execution_count": null,
   "id": "1a434ebb",
   "metadata": {},
   "outputs": [],
   "source": []
  },
  {
   "cell_type": "code",
   "execution_count": null,
   "id": "30a2aab5",
   "metadata": {},
   "outputs": [],
   "source": []
  },
  {
   "cell_type": "code",
   "execution_count": null,
   "id": "4bcaca41",
   "metadata": {},
   "outputs": [],
   "source": []
  }
 ],
 "metadata": {
  "kernelspec": {
   "display_name": "Python 3",
   "language": "python",
   "name": "python3"
  },
  "language_info": {
   "codemirror_mode": {
    "name": "ipython",
    "version": 3
   },
   "file_extension": ".py",
   "mimetype": "text/x-python",
   "name": "python",
   "nbconvert_exporter": "python",
   "pygments_lexer": "ipython3",
   "version": "3.12.1"
  }
 },
 "nbformat": 4,
 "nbformat_minor": 5
}
